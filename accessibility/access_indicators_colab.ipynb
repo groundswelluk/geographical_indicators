{
  "cells": [
    {
      "cell_type": "markdown",
      "metadata": {
        "id": "scfLT2i0MLyD"
      },
      "source": [
        "# Generating accesibility indicators using Google Colab\n",
        "This notebook will allow you to run the accessibility code within the cloud.\n",
        "\n",
        "# GPU check #\n",
        "\n",
        "Click the _Runtime_ dropdown at the top of the page, then _Change Runtime Type_ and confirm the instance type is _GPU_. You can check the output of `!nvidia-smi` to check which GPU you have. Currently, RAPIDS runs on all available Colab GPU instances."
      ]
    },
    {
      "cell_type": "code",
      "execution_count": null,
      "metadata": {
        "colab": {
          "base_uri": "https://localhost:8080/"
        },
        "id": "67T0090Jk2KL",
        "outputId": "21fec270-9fc2-4a43-b31c-69a2a8050b22"
      },
      "outputs": [
        {
          "output_type": "stream",
          "name": "stdout",
          "text": [
            "Thu Jul 11 10:42:45 2024       \n",
            "+---------------------------------------------------------------------------------------+\n",
            "| NVIDIA-SMI 535.104.05             Driver Version: 535.104.05   CUDA Version: 12.2     |\n",
            "|-----------------------------------------+----------------------+----------------------+\n",
            "| GPU  Name                 Persistence-M | Bus-Id        Disp.A | Volatile Uncorr. ECC |\n",
            "| Fan  Temp   Perf          Pwr:Usage/Cap |         Memory-Usage | GPU-Util  Compute M. |\n",
            "|                                         |                      |               MIG M. |\n",
            "|=========================================+======================+======================|\n",
            "|   0  Tesla T4                       Off | 00000000:00:04.0 Off |                    0 |\n",
            "| N/A   40C    P8               9W /  70W |      0MiB / 15360MiB |      0%      Default |\n",
            "|                                         |                      |                  N/A |\n",
            "+-----------------------------------------+----------------------+----------------------+\n",
            "                                                                                         \n",
            "+---------------------------------------------------------------------------------------+\n",
            "| Processes:                                                                            |\n",
            "|  GPU   GI   CI        PID   Type   Process name                            GPU Memory |\n",
            "|        ID   ID                                                             Usage      |\n",
            "|=======================================================================================|\n",
            "|  No running processes found                                                           |\n",
            "+---------------------------------------------------------------------------------------+\n"
          ]
        }
      ],
      "source": [
        "! nvidia-smi"
      ]
    },
    {
      "cell_type": "markdown",
      "metadata": {
        "id": "U_v33LnDVNo3"
      },
      "source": [
        "# Setup:\n",
        "First, we need to install RAPIDS within the Colab environment. The code below will do the following:\n",
        "\n",
        "1. Checks to make sure that the GPU is RAPIDS compatible\n",
        "1. Installs the **current stable version** of RAPIDSAI's core libraries using pip, which are:\n",
        "  1. cuDF\n",
        "  1. cuML\n",
        "  1. cuGraph\n",
        "  1. cuSpatial\n",
        "  1. cuxFilter\n",
        "  1. cuCIM\n",
        "  1. xgboost\n",
        "\n",
        "This will complete in ~5 minutes. It needs to be done every time you load up this notebook within Colab.\n"
      ]
    },
    {
      "cell_type": "code",
      "execution_count": 1,
      "metadata": {
        "colab": {
          "base_uri": "https://localhost:8080/"
        },
        "id": "B0C8IV5TQnjN",
        "outputId": "475c9a9c-b453-4651-8872-05022c513820"
      },
      "outputs": [
        {
          "output_type": "stream",
          "name": "stdout",
          "text": [
            "Cloning into 'rapidsai-csp-utils'...\n",
            "remote: Enumerating objects: 490, done.\u001b[K\n",
            "remote: Counting objects: 100% (221/221), done.\u001b[K\n",
            "remote: Compressing objects: 100% (130/130), done.\u001b[K\n",
            "remote: Total 490 (delta 149), reused 124 (delta 91), pack-reused 269\u001b[K\n",
            "Receiving objects: 100% (490/490), 136.70 KiB | 15.19 MiB/s, done.\n",
            "Resolving deltas: 100% (251/251), done.\n",
            "Collecting pynvml\n",
            "  Downloading pynvml-11.5.0-py3-none-any.whl (53 kB)\n",
            "     ━━━━━━━━━━━━━━━━━━━━━━━━━━━━━━━━━━━━━━━━ 53.1/53.1 kB 1.0 MB/s eta 0:00:00\n",
            "Installing collected packages: pynvml\n",
            "Successfully installed pynvml-11.5.0\n",
            "Installing the rest of the RAPIDS 24.4.* libraries\n",
            "Looking in indexes: https://pypi.org/simple, https://pypi.nvidia.com\n",
            "Requirement already satisfied: cudf-cu12==24.4.* in /usr/local/lib/python3.10/dist-packages (24.4.1)\n",
            "Collecting cuml-cu12==24.4.*\n",
            "  Downloading https://pypi.nvidia.com/cuml-cu12/cuml_cu12-24.4.0-cp310-cp310-manylinux_2_17_x86_64.manylinux2014_x86_64.whl (1200.7 MB)\n",
            "     ━━━━━━━━━━━━━━━━━━━━━━━━━━━━━━━━━━━━━━━━ 1.2/1.2 GB 1.1 MB/s eta 0:00:00\n",
            "Collecting cugraph-cu12==24.4.*\n",
            "  Downloading https://pypi.nvidia.com/cugraph-cu12/cugraph_cu12-24.4.0-cp310-cp310-manylinux_2_17_x86_64.manylinux2014_x86_64.whl (1429.1 MB)\n",
            "     ━━━━━━━━━━━━━━━━━━━━━━━━━━━━━━━━━━━━━━━━ 1.4/1.4 GB 1.2 MB/s eta 0:00:00\n",
            "Collecting cuspatial-cu12==24.4.*\n",
            "  Downloading https://pypi.nvidia.com/cuspatial-cu12/cuspatial_cu12-24.4.0-cp310-cp310-manylinux_2_17_x86_64.manylinux2014_x86_64.whl (137.8 MB)\n",
            "     ━━━━━━━━━━━━━━━━━━━━━━━━━━━━━━━━━━━━━━━━ 137.8/137.8 MB 7.7 MB/s eta 0:00:00\n",
            "Collecting cuproj-cu12==24.4.*\n",
            "  Downloading https://pypi.nvidia.com/cuproj-cu12/cuproj_cu12-24.4.0-cp310-cp310-manylinux_2_17_x86_64.manylinux2014_x86_64.whl (920 kB)\n",
            "     ━━━━━━━━━━━━━━━━━━━━━━━━━━━━━━━━━━━━━━━━ 920.9/920.9 kB 63.7 MB/s eta 0:00:00\n",
            "Collecting cuxfilter-cu12==24.4.*\n",
            "  Downloading https://pypi.nvidia.com/cuxfilter-cu12/cuxfilter_cu12-24.4.1-py3-none-any.whl (83 kB)\n",
            "     ━━━━━━━━━━━━━━━━━━━━━━━━━━━━━━━━━━━━━━━━ 83.5/83.5 kB 11.4 MB/s eta 0:00:00\n",
            "Collecting cucim-cu12==24.4.*\n",
            "  Downloading https://pypi.nvidia.com/cucim-cu12/cucim_cu12-24.4.0-cp310-cp310-manylinux_2_17_x86_64.manylinux2014_x86_64.whl (5.8 MB)\n",
            "     ━━━━━━━━━━━━━━━━━━━━━━━━━━━━━━━━━━━━━━━━ 5.8/5.8 MB 77.0 MB/s eta 0:00:00\n",
            "Collecting pylibraft-cu12==24.4.*\n",
            "  Downloading https://pypi.nvidia.com/pylibraft-cu12/pylibraft_cu12-24.4.0-cp310-cp310-manylinux_2_17_x86_64.manylinux2014_x86_64.whl (823.0 MB)\n",
            "     ━━━━━━━━━━━━━━━━━━━━━━━━━━━━━━━━━━━━━━━━ 823.0/823.0 MB 1.8 MB/s eta 0:00:00\n",
            "Collecting raft-dask-cu12==24.4.*\n",
            "  Downloading https://pypi.nvidia.com/raft-dask-cu12/raft_dask_cu12-24.4.0-cp310-cp310-manylinux_2_17_x86_64.manylinux2014_x86_64.whl (170.1 MB)\n",
            "     ━━━━━━━━━━━━━━━━━━━━━━━━━━━━━━━━━━━━━━━━ 170.1/170.1 MB 7.6 MB/s eta 0:00:00\n",
            "Requirement already satisfied: aiohttp in /usr/local/lib/python3.10/dist-packages (3.9.5)\n",
            "Requirement already satisfied: cachetools in /usr/local/lib/python3.10/dist-packages (from cudf-cu12==24.4.*) (5.3.3)\n",
            "Requirement already satisfied: cuda-python<13.0a0,>=12.0 in /usr/local/lib/python3.10/dist-packages (from cudf-cu12==24.4.*) (12.2.1)\n",
            "Requirement already satisfied: cupy-cuda12x>=12.0.0 in /usr/local/lib/python3.10/dist-packages (from cudf-cu12==24.4.*) (12.2.0)\n",
            "Requirement already satisfied: fsspec>=0.6.0 in /usr/local/lib/python3.10/dist-packages (from cudf-cu12==24.4.*) (2023.6.0)\n",
            "Requirement already satisfied: numba>=0.57 in /usr/local/lib/python3.10/dist-packages (from cudf-cu12==24.4.*) (0.58.1)\n",
            "Requirement already satisfied: numpy<2.0a0,>=1.23 in /usr/local/lib/python3.10/dist-packages (from cudf-cu12==24.4.*) (1.25.2)\n",
            "Requirement already satisfied: nvtx>=0.2.1 in /usr/local/lib/python3.10/dist-packages (from cudf-cu12==24.4.*) (0.2.10)\n",
            "Requirement already satisfied: packaging in /usr/local/lib/python3.10/dist-packages (from cudf-cu12==24.4.*) (24.1)\n",
            "Requirement already satisfied: pandas<2.2.2dev0,>=2.0 in /usr/local/lib/python3.10/dist-packages (from cudf-cu12==24.4.*) (2.0.3)\n",
            "Requirement already satisfied: protobuf<5,>=3.20 in /usr/local/lib/python3.10/dist-packages (from cudf-cu12==24.4.*) (3.20.3)\n",
            "Requirement already satisfied: pynvjitlink-cu12 in /usr/local/lib/python3.10/dist-packages (from cudf-cu12==24.4.*) (0.2.4)\n",
            "Requirement already satisfied: pyarrow<15.0.0a0,>=14.0.1 in /usr/local/lib/python3.10/dist-packages (from cudf-cu12==24.4.*) (14.0.2)\n",
            "Requirement already satisfied: rich in /usr/local/lib/python3.10/dist-packages (from cudf-cu12==24.4.*) (13.7.1)\n",
            "Requirement already satisfied: rmm-cu12==24.4.* in /usr/local/lib/python3.10/dist-packages (from cudf-cu12==24.4.*) (24.4.0)\n",
            "Requirement already satisfied: typing_extensions>=4.0.0 in /usr/local/lib/python3.10/dist-packages (from cudf-cu12==24.4.*) (4.12.2)\n",
            "Collecting dask-cuda==24.4.* (from cuml-cu12==24.4.*)\n",
            "  Downloading dask_cuda-24.4.0-py3-none-any.whl (126 kB)\n",
            "     ━━━━━━━━━━━━━━━━━━━━━━━━━━━━━━━━━━━━━━━━ 126.6/126.6 kB 1.9 MB/s eta 0:00:00\n",
            "Collecting dask-cudf-cu12==24.4.* (from cuml-cu12==24.4.*)\n",
            "  Downloading https://pypi.nvidia.com/dask-cudf-cu12/dask_cudf_cu12-24.4.1-py3-none-any.whl (48 kB)\n",
            "     ━━━━━━━━━━━━━━━━━━━━━━━━━━━━━━━━━━━━━━━━ 48.9/48.9 kB 7.3 MB/s eta 0:00:00\n",
            "Requirement already satisfied: joblib>=0.11 in /usr/local/lib/python3.10/dist-packages (from cuml-cu12==24.4.*) (1.4.2)\n",
            "Collecting rapids-dask-dependency==24.4.* (from cuml-cu12==24.4.*)\n",
            "  Downloading https://pypi.nvidia.com/rapids-dask-dependency/rapids_dask_dependency-24.4.1-py3-none-any.whl (15 kB)\n",
            "Requirement already satisfied: scipy>=1.8.0 in /usr/local/lib/python3.10/dist-packages (from cuml-cu12==24.4.*) (1.11.4)\n",
            "Collecting treelite==4.1.2 (from cuml-cu12==24.4.*)\n",
            "  Downloading treelite-4.1.2-py3-none-manylinux2014_x86_64.whl (810 kB)\n",
            "     ━━━━━━━━━━━━━━━━━━━━━━━━━━━━━━━━━━━━━━━━ 810.9/810.9 kB 36.3 MB/s eta 0:00:00\n",
            "Collecting pylibcugraph-cu12==24.4.* (from cugraph-cu12==24.4.*)\n",
            "  Downloading https://pypi.nvidia.com/pylibcugraph-cu12/pylibcugraph_cu12-24.4.0-cp310-cp310-manylinux_2_17_x86_64.manylinux2014_x86_64.whl (1430.2 MB)\n",
            "     ━━━━━━━━━━━━━━━━━━━━━━━━━━━━━━━━━━━━━━━━ 1.4/1.4 GB 652.1 kB/s eta 0:00:00\n",
            "Collecting ucx-py-cu12==0.37.* (from cugraph-cu12==24.4.*)\n",
            "  Downloading https://pypi.nvidia.com/ucx-py-cu12/ucx_py_cu12-0.37.0-cp310-cp310-manylinux_2_17_x86_64.manylinux2014_x86_64.whl (7.7 MB)\n",
            "     ━━━━━━━━━━━━━━━━━━━━━━━━━━━━━━━━━━━━━━━━ 7.7/7.7 MB 101.5 MB/s eta 0:00:00\n",
            "Requirement already satisfied: geopandas>=0.11.0 in /usr/local/lib/python3.10/dist-packages (from cuspatial-cu12==24.4.*) (0.13.2)\n",
            "Requirement already satisfied: bokeh>=3.1 in /usr/local/lib/python3.10/dist-packages (from cuxfilter-cu12==24.4.*) (3.3.4)\n",
            "Collecting datashader>=0.15 (from cuxfilter-cu12==24.4.*)\n",
            "  Downloading datashader-0.16.3-py2.py3-none-any.whl (18.3 MB)\n",
            "     ━━━━━━━━━━━━━━━━━━━━━━━━━━━━━━━━━━━━━━━━ 18.3/18.3 MB 44.9 MB/s eta 0:00:00\n",
            "Requirement already satisfied: holoviews>=1.16.0 in /usr/local/lib/python3.10/dist-packages (from cuxfilter-cu12==24.4.*) (1.17.1)\n",
            "Collecting jupyter-server-proxy (from cuxfilter-cu12==24.4.*)\n",
            "  Downloading jupyter_server_proxy-4.3.0-py3-none-any.whl (36 kB)\n",
            "Requirement already satisfied: panel>=1.0 in /usr/local/lib/python3.10/dist-packages (from cuxfilter-cu12==24.4.*) (1.3.8)\n",
            "Requirement already satisfied: click in /usr/local/lib/python3.10/dist-packages (from cucim-cu12==24.4.*) (8.1.7)\n",
            "Requirement already satisfied: lazy-loader>=0.1 in /usr/local/lib/python3.10/dist-packages (from cucim-cu12==24.4.*) (0.4)\n",
            "Requirement already satisfied: scikit-image<0.23.0a0,>=0.19.0 in /usr/local/lib/python3.10/dist-packages (from cucim-cu12==24.4.*) (0.19.3)\n",
            "Collecting pynvml<11.5,>=11.0.0 (from dask-cuda==24.4.*->cuml-cu12==24.4.*)\n",
            "  Downloading pynvml-11.4.1-py3-none-any.whl (46 kB)\n",
            "     ━━━━━━━━━━━━━━━━━━━━━━━━━━━━━━━━━━━━━━━━ 47.0/47.0 kB 6.5 MB/s eta 0:00:00\n",
            "Requirement already satisfied: zict>=2.0.0 in /usr/local/lib/python3.10/dist-packages (from dask-cuda==24.4.*->cuml-cu12==24.4.*) (3.0.0)\n",
            "Collecting dask==2024.1.1 (from rapids-dask-dependency==24.4.*->cuml-cu12==24.4.*)\n",
            "  Downloading dask-2024.1.1-py3-none-any.whl (1.2 MB)\n",
            "     ━━━━━━━━━━━━━━━━━━━━━━━━━━━━━━━━━━━━━━━━ 1.2/1.2 MB 80.3 MB/s eta 0:00:00\n",
            "Collecting distributed==2024.1.1 (from rapids-dask-dependency==24.4.*->cuml-cu12==24.4.*)\n",
            "  Downloading distributed-2024.1.1-py3-none-any.whl (1.0 MB)\n",
            "     ━━━━━━━━━━━━━━━━━━━━━━━━━━━━━━━━━━━━━━━━ 1.0/1.0 MB 71.7 MB/s eta 0:00:00\n",
            "Collecting dask-expr==0.4.0 (from rapids-dask-dependency==24.4.*->cuml-cu12==24.4.*)\n",
            "  Downloading dask_expr-0.4.0-py3-none-any.whl (161 kB)\n",
            "     ━━━━━━━━━━━━━━━━━━━━━━━━━━━━━━━━━━━━━━━━ 161.7/161.7 kB 23.9 MB/s eta 0:00:00\n",
            "Requirement already satisfied: cloudpickle>=1.5.0 in /usr/local/lib/python3.10/dist-packages (from dask==2024.1.1->rapids-dask-dependency==24.4.*->cuml-cu12==24.4.*) (2.2.1)\n",
            "Requirement already satisfied: partd>=1.2.0 in /usr/local/lib/python3.10/dist-packages (from dask==2024.1.1->rapids-dask-dependency==24.4.*->cuml-cu12==24.4.*) (1.4.2)\n",
            "Requirement already satisfied: pyyaml>=5.3.1 in /usr/local/lib/python3.10/dist-packages (from dask==2024.1.1->rapids-dask-dependency==24.4.*->cuml-cu12==24.4.*) (6.0.1)\n",
            "Requirement already satisfied: toolz>=0.10.0 in /usr/local/lib/python3.10/dist-packages (from dask==2024.1.1->rapids-dask-dependency==24.4.*->cuml-cu12==24.4.*) (0.12.1)\n",
            "Requirement already satisfied: importlib-metadata>=4.13.0 in /usr/local/lib/python3.10/dist-packages (from dask==2024.1.1->rapids-dask-dependency==24.4.*->cuml-cu12==24.4.*) (8.0.0)\n",
            "Requirement already satisfied: jinja2>=2.10.3 in /usr/local/lib/python3.10/dist-packages (from distributed==2024.1.1->rapids-dask-dependency==24.4.*->cuml-cu12==24.4.*) (3.1.4)\n",
            "Requirement already satisfied: locket>=1.0.0 in /usr/local/lib/python3.10/dist-packages (from distributed==2024.1.1->rapids-dask-dependency==24.4.*->cuml-cu12==24.4.*) (1.0.0)\n",
            "Requirement already satisfied: msgpack>=1.0.0 in /usr/local/lib/python3.10/dist-packages (from distributed==2024.1.1->rapids-dask-dependency==24.4.*->cuml-cu12==24.4.*) (1.0.8)\n",
            "Requirement already satisfied: psutil>=5.7.2 in /usr/local/lib/python3.10/dist-packages (from distributed==2024.1.1->rapids-dask-dependency==24.4.*->cuml-cu12==24.4.*) (5.9.5)\n",
            "Requirement already satisfied: sortedcontainers>=2.0.5 in /usr/local/lib/python3.10/dist-packages (from distributed==2024.1.1->rapids-dask-dependency==24.4.*->cuml-cu12==24.4.*) (2.4.0)\n",
            "Requirement already satisfied: tblib>=1.6.0 in /usr/local/lib/python3.10/dist-packages (from distributed==2024.1.1->rapids-dask-dependency==24.4.*->cuml-cu12==24.4.*) (3.0.0)\n",
            "Requirement already satisfied: tornado>=6.0.4 in /usr/local/lib/python3.10/dist-packages (from distributed==2024.1.1->rapids-dask-dependency==24.4.*->cuml-cu12==24.4.*) (6.3.3)\n",
            "Requirement already satisfied: urllib3>=1.24.3 in /usr/local/lib/python3.10/dist-packages (from distributed==2024.1.1->rapids-dask-dependency==24.4.*->cuml-cu12==24.4.*) (2.0.7)\n",
            "Requirement already satisfied: aiosignal>=1.1.2 in /usr/local/lib/python3.10/dist-packages (from aiohttp) (1.3.1)\n",
            "Requirement already satisfied: attrs>=17.3.0 in /usr/local/lib/python3.10/dist-packages (from aiohttp) (23.2.0)\n",
            "Requirement already satisfied: frozenlist>=1.1.1 in /usr/local/lib/python3.10/dist-packages (from aiohttp) (1.4.1)\n",
            "Requirement already satisfied: multidict<7.0,>=4.5 in /usr/local/lib/python3.10/dist-packages (from aiohttp) (6.0.5)\n",
            "Requirement already satisfied: yarl<2.0,>=1.0 in /usr/local/lib/python3.10/dist-packages (from aiohttp) (1.9.4)\n",
            "Requirement already satisfied: async-timeout<5.0,>=4.0 in /usr/local/lib/python3.10/dist-packages (from aiohttp) (4.0.3)\n",
            "Requirement already satisfied: contourpy>=1 in /usr/local/lib/python3.10/dist-packages (from bokeh>=3.1->cuxfilter-cu12==24.4.*) (1.2.1)\n",
            "Requirement already satisfied: pillow>=7.1.0 in /usr/local/lib/python3.10/dist-packages (from bokeh>=3.1->cuxfilter-cu12==24.4.*) (9.4.0)\n",
            "Requirement already satisfied: xyzservices>=2021.09.1 in /usr/local/lib/python3.10/dist-packages (from bokeh>=3.1->cuxfilter-cu12==24.4.*) (2024.6.0)\n",
            "Requirement already satisfied: cython in /usr/local/lib/python3.10/dist-packages (from cuda-python<13.0a0,>=12.0->cudf-cu12==24.4.*) (3.0.10)\n",
            "Requirement already satisfied: fastrlock>=0.5 in /usr/local/lib/python3.10/dist-packages (from cupy-cuda12x>=12.0.0->cudf-cu12==24.4.*) (0.8.2)\n",
            "Requirement already satisfied: colorcet in /usr/local/lib/python3.10/dist-packages (from datashader>=0.15->cuxfilter-cu12==24.4.*) (3.1.0)\n",
            "Requirement already satisfied: multipledispatch in /usr/local/lib/python3.10/dist-packages (from datashader>=0.15->cuxfilter-cu12==24.4.*) (1.0.0)\n",
            "Requirement already satisfied: param in /usr/local/lib/python3.10/dist-packages (from datashader>=0.15->cuxfilter-cu12==24.4.*) (2.1.1)\n",
            "Collecting pyct (from datashader>=0.15->cuxfilter-cu12==24.4.*)\n",
            "  Downloading pyct-0.5.0-py2.py3-none-any.whl (15 kB)\n",
            "Requirement already satisfied: requests in /usr/local/lib/python3.10/dist-packages (from datashader>=0.15->cuxfilter-cu12==24.4.*) (2.31.0)\n",
            "Requirement already satisfied: xarray in /usr/local/lib/python3.10/dist-packages (from datashader>=0.15->cuxfilter-cu12==24.4.*) (2023.7.0)\n",
            "Requirement already satisfied: fiona>=1.8.19 in /usr/local/lib/python3.10/dist-packages (from geopandas>=0.11.0->cuspatial-cu12==24.4.*) (1.9.6)\n",
            "Requirement already satisfied: pyproj>=3.0.1 in /usr/local/lib/python3.10/dist-packages (from geopandas>=0.11.0->cuspatial-cu12==24.4.*) (3.6.1)\n",
            "Requirement already satisfied: shapely>=1.7.1 in /usr/local/lib/python3.10/dist-packages (from geopandas>=0.11.0->cuspatial-cu12==24.4.*) (2.0.4)\n",
            "Requirement already satisfied: pyviz-comms>=0.7.4 in /usr/local/lib/python3.10/dist-packages (from holoviews>=1.16.0->cuxfilter-cu12==24.4.*) (3.0.2)\n",
            "Requirement already satisfied: llvmlite<0.42,>=0.41.0dev0 in /usr/local/lib/python3.10/dist-packages (from numba>=0.57->cudf-cu12==24.4.*) (0.41.1)\n",
            "Requirement already satisfied: python-dateutil>=2.8.2 in /usr/local/lib/python3.10/dist-packages (from pandas<2.2.2dev0,>=2.0->cudf-cu12==24.4.*) (2.8.2)\n",
            "Requirement already satisfied: pytz>=2020.1 in /usr/local/lib/python3.10/dist-packages (from pandas<2.2.2dev0,>=2.0->cudf-cu12==24.4.*) (2023.4)\n",
            "Requirement already satisfied: tzdata>=2022.1 in /usr/local/lib/python3.10/dist-packages (from pandas<2.2.2dev0,>=2.0->cudf-cu12==24.4.*) (2024.1)\n",
            "Requirement already satisfied: markdown in /usr/local/lib/python3.10/dist-packages (from panel>=1.0->cuxfilter-cu12==24.4.*) (3.6)\n",
            "Requirement already satisfied: markdown-it-py in /usr/local/lib/python3.10/dist-packages (from panel>=1.0->cuxfilter-cu12==24.4.*) (3.0.0)\n",
            "Requirement already satisfied: linkify-it-py in /usr/local/lib/python3.10/dist-packages (from panel>=1.0->cuxfilter-cu12==24.4.*) (2.0.3)\n",
            "Requirement already satisfied: mdit-py-plugins in /usr/local/lib/python3.10/dist-packages (from panel>=1.0->cuxfilter-cu12==24.4.*) (0.4.1)\n",
            "Requirement already satisfied: tqdm>=4.48.0 in /usr/local/lib/python3.10/dist-packages (from panel>=1.0->cuxfilter-cu12==24.4.*) (4.66.4)\n",
            "Requirement already satisfied: bleach in /usr/local/lib/python3.10/dist-packages (from panel>=1.0->cuxfilter-cu12==24.4.*) (6.1.0)\n",
            "Requirement already satisfied: networkx>=2.2 in /usr/local/lib/python3.10/dist-packages (from scikit-image<0.23.0a0,>=0.19.0->cucim-cu12==24.4.*) (3.3)\n",
            "Requirement already satisfied: imageio>=2.4.1 in /usr/local/lib/python3.10/dist-packages (from scikit-image<0.23.0a0,>=0.19.0->cucim-cu12==24.4.*) (2.31.6)\n",
            "Requirement already satisfied: tifffile>=2019.7.26 in /usr/local/lib/python3.10/dist-packages (from scikit-image<0.23.0a0,>=0.19.0->cucim-cu12==24.4.*) (2024.6.18)\n",
            "Requirement already satisfied: PyWavelets>=1.1.1 in /usr/local/lib/python3.10/dist-packages (from scikit-image<0.23.0a0,>=0.19.0->cucim-cu12==24.4.*) (1.6.0)\n",
            "Requirement already satisfied: idna>=2.0 in /usr/local/lib/python3.10/dist-packages (from yarl<2.0,>=1.0->aiohttp) (3.7)\n",
            "Requirement already satisfied: jupyter-server>=1.24.0 in /usr/local/lib/python3.10/dist-packages (from jupyter-server-proxy->cuxfilter-cu12==24.4.*) (1.24.0)\n",
            "Collecting simpervisor>=1.0.0 (from jupyter-server-proxy->cuxfilter-cu12==24.4.*)\n",
            "  Downloading simpervisor-1.0.0-py3-none-any.whl (8.3 kB)\n",
            "Requirement already satisfied: traitlets>=5.1.0 in /usr/local/lib/python3.10/dist-packages (from jupyter-server-proxy->cuxfilter-cu12==24.4.*) (5.7.1)\n",
            "Requirement already satisfied: pygments<3.0.0,>=2.13.0 in /usr/local/lib/python3.10/dist-packages (from rich->cudf-cu12==24.4.*) (2.16.1)\n",
            "Requirement already satisfied: certifi in /usr/local/lib/python3.10/dist-packages (from fiona>=1.8.19->geopandas>=0.11.0->cuspatial-cu12==24.4.*) (2024.6.2)\n",
            "Requirement already satisfied: click-plugins>=1.0 in /usr/local/lib/python3.10/dist-packages (from fiona>=1.8.19->geopandas>=0.11.0->cuspatial-cu12==24.4.*) (1.1.1)\n",
            "Requirement already satisfied: cligj>=0.5 in /usr/local/lib/python3.10/dist-packages (from fiona>=1.8.19->geopandas>=0.11.0->cuspatial-cu12==24.4.*) (0.7.2)\n",
            "Requirement already satisfied: six in /usr/local/lib/python3.10/dist-packages (from fiona>=1.8.19->geopandas>=0.11.0->cuspatial-cu12==24.4.*) (1.16.0)\n",
            "Requirement already satisfied: MarkupSafe>=2.0 in /usr/local/lib/python3.10/dist-packages (from jinja2>=2.10.3->distributed==2024.1.1->rapids-dask-dependency==24.4.*->cuml-cu12==24.4.*) (2.1.5)\n",
            "Requirement already satisfied: anyio<4,>=3.1.0 in /usr/local/lib/python3.10/dist-packages (from jupyter-server>=1.24.0->jupyter-server-proxy->cuxfilter-cu12==24.4.*) (3.7.1)\n",
            "Requirement already satisfied: argon2-cffi in /usr/local/lib/python3.10/dist-packages (from jupyter-server>=1.24.0->jupyter-server-proxy->cuxfilter-cu12==24.4.*) (23.1.0)\n",
            "Requirement already satisfied: jupyter-client>=6.1.12 in /usr/local/lib/python3.10/dist-packages (from jupyter-server>=1.24.0->jupyter-server-proxy->cuxfilter-cu12==24.4.*) (6.1.12)\n",
            "Requirement already satisfied: jupyter-core!=5.0.*,>=4.12 in /usr/local/lib/python3.10/dist-packages (from jupyter-server>=1.24.0->jupyter-server-proxy->cuxfilter-cu12==24.4.*) (5.7.2)\n",
            "Requirement already satisfied: nbconvert>=6.4.4 in /usr/local/lib/python3.10/dist-packages (from jupyter-server>=1.24.0->jupyter-server-proxy->cuxfilter-cu12==24.4.*) (6.5.4)\n",
            "Requirement already satisfied: nbformat>=5.2.0 in /usr/local/lib/python3.10/dist-packages (from jupyter-server>=1.24.0->jupyter-server-proxy->cuxfilter-cu12==24.4.*) (5.10.4)\n",
            "Requirement already satisfied: prometheus-client in /usr/local/lib/python3.10/dist-packages (from jupyter-server>=1.24.0->jupyter-server-proxy->cuxfilter-cu12==24.4.*) (0.20.0)\n",
            "Requirement already satisfied: pyzmq>=17 in /usr/local/lib/python3.10/dist-packages (from jupyter-server>=1.24.0->jupyter-server-proxy->cuxfilter-cu12==24.4.*) (24.0.1)\n",
            "Requirement already satisfied: Send2Trash in /usr/local/lib/python3.10/dist-packages (from jupyter-server>=1.24.0->jupyter-server-proxy->cuxfilter-cu12==24.4.*) (1.8.3)\n",
            "Requirement already satisfied: terminado>=0.8.3 in /usr/local/lib/python3.10/dist-packages (from jupyter-server>=1.24.0->jupyter-server-proxy->cuxfilter-cu12==24.4.*) (0.18.1)\n",
            "Requirement already satisfied: websocket-client in /usr/local/lib/python3.10/dist-packages (from jupyter-server>=1.24.0->jupyter-server-proxy->cuxfilter-cu12==24.4.*) (1.8.0)\n",
            "Requirement already satisfied: mdurl~=0.1 in /usr/local/lib/python3.10/dist-packages (from markdown-it-py->panel>=1.0->cuxfilter-cu12==24.4.*) (0.1.2)\n",
            "Requirement already satisfied: webencodings in /usr/local/lib/python3.10/dist-packages (from bleach->panel>=1.0->cuxfilter-cu12==24.4.*) (0.5.1)\n",
            "Requirement already satisfied: uc-micro-py in /usr/local/lib/python3.10/dist-packages (from linkify-it-py->panel>=1.0->cuxfilter-cu12==24.4.*) (1.0.3)\n",
            "Requirement already satisfied: charset-normalizer<4,>=2 in /usr/local/lib/python3.10/dist-packages (from requests->datashader>=0.15->cuxfilter-cu12==24.4.*) (3.3.2)\n",
            "Requirement already satisfied: sniffio>=1.1 in /usr/local/lib/python3.10/dist-packages (from anyio<4,>=3.1.0->jupyter-server>=1.24.0->jupyter-server-proxy->cuxfilter-cu12==24.4.*) (1.3.1)\n",
            "Requirement already satisfied: exceptiongroup in /usr/local/lib/python3.10/dist-packages (from anyio<4,>=3.1.0->jupyter-server>=1.24.0->jupyter-server-proxy->cuxfilter-cu12==24.4.*) (1.2.1)\n",
            "Requirement already satisfied: zipp>=0.5 in /usr/local/lib/python3.10/dist-packages (from importlib-metadata>=4.13.0->dask==2024.1.1->rapids-dask-dependency==24.4.*->cuml-cu12==24.4.*) (3.19.2)\n",
            "Requirement already satisfied: platformdirs>=2.5 in /usr/local/lib/python3.10/dist-packages (from jupyter-core!=5.0.*,>=4.12->jupyter-server>=1.24.0->jupyter-server-proxy->cuxfilter-cu12==24.4.*) (4.2.2)\n",
            "Requirement already satisfied: lxml in /usr/local/lib/python3.10/dist-packages (from nbconvert>=6.4.4->jupyter-server>=1.24.0->jupyter-server-proxy->cuxfilter-cu12==24.4.*) (4.9.4)\n",
            "Requirement already satisfied: beautifulsoup4 in /usr/local/lib/python3.10/dist-packages (from nbconvert>=6.4.4->jupyter-server>=1.24.0->jupyter-server-proxy->cuxfilter-cu12==24.4.*) (4.12.3)\n",
            "Requirement already satisfied: defusedxml in /usr/local/lib/python3.10/dist-packages (from nbconvert>=6.4.4->jupyter-server>=1.24.0->jupyter-server-proxy->cuxfilter-cu12==24.4.*) (0.7.1)\n",
            "Requirement already satisfied: entrypoints>=0.2.2 in /usr/local/lib/python3.10/dist-packages (from nbconvert>=6.4.4->jupyter-server>=1.24.0->jupyter-server-proxy->cuxfilter-cu12==24.4.*) (0.4)\n",
            "Requirement already satisfied: jupyterlab-pygments in /usr/local/lib/python3.10/dist-packages (from nbconvert>=6.4.4->jupyter-server>=1.24.0->jupyter-server-proxy->cuxfilter-cu12==24.4.*) (0.3.0)\n",
            "Requirement already satisfied: mistune<2,>=0.8.1 in /usr/local/lib/python3.10/dist-packages (from nbconvert>=6.4.4->jupyter-server>=1.24.0->jupyter-server-proxy->cuxfilter-cu12==24.4.*) (0.8.4)\n",
            "Requirement already satisfied: nbclient>=0.5.0 in /usr/local/lib/python3.10/dist-packages (from nbconvert>=6.4.4->jupyter-server>=1.24.0->jupyter-server-proxy->cuxfilter-cu12==24.4.*) (0.10.0)\n",
            "Requirement already satisfied: pandocfilters>=1.4.1 in /usr/local/lib/python3.10/dist-packages (from nbconvert>=6.4.4->jupyter-server>=1.24.0->jupyter-server-proxy->cuxfilter-cu12==24.4.*) (1.5.1)\n",
            "Requirement already satisfied: tinycss2 in /usr/local/lib/python3.10/dist-packages (from nbconvert>=6.4.4->jupyter-server>=1.24.0->jupyter-server-proxy->cuxfilter-cu12==24.4.*) (1.3.0)\n",
            "Requirement already satisfied: fastjsonschema>=2.15 in /usr/local/lib/python3.10/dist-packages (from nbformat>=5.2.0->jupyter-server>=1.24.0->jupyter-server-proxy->cuxfilter-cu12==24.4.*) (2.20.0)\n",
            "Requirement already satisfied: jsonschema>=2.6 in /usr/local/lib/python3.10/dist-packages (from nbformat>=5.2.0->jupyter-server>=1.24.0->jupyter-server-proxy->cuxfilter-cu12==24.4.*) (4.19.2)\n",
            "Requirement already satisfied: ptyprocess in /usr/local/lib/python3.10/dist-packages (from terminado>=0.8.3->jupyter-server>=1.24.0->jupyter-server-proxy->cuxfilter-cu12==24.4.*) (0.7.0)\n",
            "Requirement already satisfied: argon2-cffi-bindings in /usr/local/lib/python3.10/dist-packages (from argon2-cffi->jupyter-server>=1.24.0->jupyter-server-proxy->cuxfilter-cu12==24.4.*) (21.2.0)\n",
            "Requirement already satisfied: jsonschema-specifications>=2023.03.6 in /usr/local/lib/python3.10/dist-packages (from jsonschema>=2.6->nbformat>=5.2.0->jupyter-server>=1.24.0->jupyter-server-proxy->cuxfilter-cu12==24.4.*) (2023.12.1)\n",
            "Requirement already satisfied: referencing>=0.28.4 in /usr/local/lib/python3.10/dist-packages (from jsonschema>=2.6->nbformat>=5.2.0->jupyter-server>=1.24.0->jupyter-server-proxy->cuxfilter-cu12==24.4.*) (0.35.1)\n",
            "Requirement already satisfied: rpds-py>=0.7.1 in /usr/local/lib/python3.10/dist-packages (from jsonschema>=2.6->nbformat>=5.2.0->jupyter-server>=1.24.0->jupyter-server-proxy->cuxfilter-cu12==24.4.*) (0.18.1)\n",
            "Requirement already satisfied: cffi>=1.0.1 in /usr/local/lib/python3.10/dist-packages (from argon2-cffi-bindings->argon2-cffi->jupyter-server>=1.24.0->jupyter-server-proxy->cuxfilter-cu12==24.4.*) (1.16.0)\n",
            "Requirement already satisfied: soupsieve>1.2 in /usr/local/lib/python3.10/dist-packages (from beautifulsoup4->nbconvert>=6.4.4->jupyter-server>=1.24.0->jupyter-server-proxy->cuxfilter-cu12==24.4.*) (2.5)\n",
            "Requirement already satisfied: pycparser in /usr/local/lib/python3.10/dist-packages (from cffi>=1.0.1->argon2-cffi-bindings->argon2-cffi->jupyter-server>=1.24.0->jupyter-server-proxy->cuxfilter-cu12==24.4.*) (2.22)\n",
            "Installing collected packages: simpervisor, pynvml, pyct, ucx-py-cu12, treelite, dask, pylibraft-cu12, distributed, dask-expr, cuproj-cu12, cucim-cu12, rapids-dask-dependency, pylibcugraph-cu12, datashader, cuspatial-cu12, dask-cudf-cu12, dask-cuda, raft-dask-cu12, cuml-cu12, cugraph-cu12, jupyter-server-proxy, cuxfilter-cu12\n",
            "  Attempting uninstall: pynvml\n",
            "    Found existing installation: pynvml 11.5.0\n",
            "    Uninstalling pynvml-11.5.0:\n",
            "      Successfully uninstalled pynvml-11.5.0\n",
            "  Attempting uninstall: dask\n",
            "    Found existing installation: dask 2023.8.1\n",
            "    Uninstalling dask-2023.8.1:\n",
            "      Successfully uninstalled dask-2023.8.1\n",
            "  Attempting uninstall: distributed\n",
            "    Found existing installation: distributed 2023.8.1\n",
            "    Uninstalling distributed-2023.8.1:\n",
            "      Successfully uninstalled distributed-2023.8.1\n",
            "Successfully installed cucim-cu12-24.4.0 cugraph-cu12-24.4.0 cuml-cu12-24.4.0 cuproj-cu12-24.4.0 cuspatial-cu12-24.4.0 cuxfilter-cu12-24.4.1 dask-2024.1.1 dask-cuda-24.4.0 dask-cudf-cu12-24.4.1 dask-expr-0.4.0 datashader-0.16.3 distributed-2024.1.1 jupyter-server-proxy-4.3.0 pyct-0.5.0 pylibcugraph-cu12-24.4.0 pylibraft-cu12-24.4.0 pynvml-11.4.1 raft-dask-cu12-24.4.0 rapids-dask-dependency-24.4.1 simpervisor-1.0.0 treelite-4.1.2 ucx-py-cu12-0.37.0\n",
            "\n",
            "        ***********************************************************************\n",
            "        The pip install of RAPIDS is complete.\n",
            "        \n",
            "        Please do not run any further installation from the conda based installation methods, as they may cause issues!\n",
            "        \n",
            "        Please ensure that you're pulling from the git repo to remain updated with the latest working install scripts.\n",
            "\n",
            "        Troubleshooting:\n",
            "            - If there is an installation failure, please check back on RAPIDSAI owned templates/notebooks to see how to update your personal files. \n",
            "            - If an installation failure persists when using the latest script, please make an issue on https://github.com/rapidsai-community/rapidsai-csp-utils\n",
            "        ***********************************************************************\n",
            "        \n"
          ]
        }
      ],
      "source": [
        "! git clone https://github.com/rapidsai/rapidsai-csp-utils.git # Get the latest RAPIDS version\n",
        "! python rapidsai-csp-utils/colab/pip-install.py # Install RAPIDS\n"
      ]
    },
    {
      "cell_type": "markdown",
      "metadata": {
        "id": "pZJMJ6BulmMn"
      },
      "source": [
        "Let's check that this has worked correctly by calling the version numbers of libraries. If RAPIDS was installed correctly, then will print their version numbers in each cell."
      ]
    },
    {
      "cell_type": "code",
      "execution_count": 2,
      "metadata": {
        "colab": {
          "base_uri": "https://localhost:8080/",
          "height": 35
        },
        "id": "4nLrk46BllED",
        "outputId": "bef53f0f-3965-4a12-e4e0-571caa5b4cc9"
      },
      "outputs": [
        {
          "output_type": "execute_result",
          "data": {
            "text/plain": [
              "'24.04.01'"
            ],
            "application/vnd.google.colaboratory.intrinsic+json": {
              "type": "string"
            }
          },
          "metadata": {},
          "execution_count": 2
        }
      ],
      "source": [
        "import cudf\n",
        "cudf.__version__"
      ]
    },
    {
      "cell_type": "code",
      "execution_count": 3,
      "metadata": {
        "colab": {
          "base_uri": "https://localhost:8080/",
          "height": 35
        },
        "id": "xgAFgI15ddf6",
        "outputId": "b96a7925-a7c8-4c35-be24-f720fdc3c85f"
      },
      "outputs": [
        {
          "output_type": "execute_result",
          "data": {
            "text/plain": [
              "'24.04.00'"
            ],
            "application/vnd.google.colaboratory.intrinsic+json": {
              "type": "string"
            }
          },
          "metadata": {},
          "execution_count": 3
        }
      ],
      "source": [
        "import cuml\n",
        "cuml.__version__"
      ]
    },
    {
      "cell_type": "code",
      "execution_count": 4,
      "metadata": {
        "colab": {
          "base_uri": "https://localhost:8080/",
          "height": 35
        },
        "id": "JOCMWaUal1fI",
        "outputId": "9d205fcd-0bb2-42fb-d3e9-fe0894fa9c2f"
      },
      "outputs": [
        {
          "output_type": "execute_result",
          "data": {
            "text/plain": [
              "'24.04.00'"
            ],
            "application/vnd.google.colaboratory.intrinsic+json": {
              "type": "string"
            }
          },
          "metadata": {},
          "execution_count": 4
        }
      ],
      "source": [
        "import cugraph\n",
        "cugraph.__version__"
      ]
    },
    {
      "cell_type": "code",
      "execution_count": 5,
      "metadata": {
        "id": "AnmtYjzvVTtv",
        "colab": {
          "base_uri": "https://localhost:8080/",
          "height": 35
        },
        "outputId": "dcc3dfd3-356c-436c-f2f9-e04264683b9a"
      },
      "outputs": [
        {
          "output_type": "execute_result",
          "data": {
            "text/plain": [
              "'24.04.00'"
            ],
            "application/vnd.google.colaboratory.intrinsic+json": {
              "type": "string"
            }
          },
          "metadata": {},
          "execution_count": 5
        }
      ],
      "source": [
        "import cuspatial\n",
        "cuspatial.__version__"
      ]
    },
    {
      "cell_type": "code",
      "execution_count": 6,
      "metadata": {
        "colab": {
          "base_uri": "https://localhost:8080/",
          "height": 35
        },
        "id": "CYjcARDFVWWD",
        "outputId": "296ac465-c1c4-40a1-dee4-94c9c3cb075f"
      },
      "outputs": [
        {
          "output_type": "execute_result",
          "data": {
            "text/plain": [
              "'24.04.01'"
            ],
            "application/vnd.google.colaboratory.intrinsic+json": {
              "type": "string"
            }
          },
          "metadata": {},
          "execution_count": 6
        }
      ],
      "source": [
        "import cuxfilter\n",
        "cuxfilter.__version__"
      ]
    },
    {
      "cell_type": "markdown",
      "metadata": {
        "id": "prwgujiPS4Zn"
      },
      "source": [
        "Just one last thing we need to install for our code to work (this will need to be reinstalled every time you run this notebook in Colab)."
      ]
    },
    {
      "cell_type": "code",
      "execution_count": 7,
      "metadata": {
        "colab": {
          "base_uri": "https://localhost:8080/"
        },
        "id": "VlgdoQgdSxeN",
        "outputId": "2f0eb7db-9fca-47b9-f0c3-46eac54f2762"
      },
      "outputs": [
        {
          "output_type": "stream",
          "name": "stdout",
          "text": [
            "Collecting pyogrio\n",
            "  Downloading pyogrio-0.9.0-cp310-cp310-manylinux_2_17_x86_64.manylinux2014_x86_64.whl (23.1 MB)\n",
            "\u001b[2K     \u001b[90m━━━━━━━━━━━━━━━━━━━━━━━━━━━━━━━━━━━━━━━━\u001b[0m \u001b[32m23.1/23.1 MB\u001b[0m \u001b[31m60.0 MB/s\u001b[0m eta \u001b[36m0:00:00\u001b[0m\n",
            "\u001b[?25hRequirement already satisfied: certifi in /usr/local/lib/python3.10/dist-packages (from pyogrio) (2024.6.2)\n",
            "Requirement already satisfied: numpy in /usr/local/lib/python3.10/dist-packages (from pyogrio) (1.25.2)\n",
            "Requirement already satisfied: packaging in /usr/local/lib/python3.10/dist-packages (from pyogrio) (24.1)\n",
            "Installing collected packages: pyogrio\n",
            "Successfully installed pyogrio-0.9.0\n"
          ]
        }
      ],
      "source": [
        "! pip install pyogrio"
      ]
    },
    {
      "cell_type": "markdown",
      "metadata": {
        "id": "Dlsyk9m9NN2K"
      },
      "source": [
        "# Clone the GitHub repo #\n",
        "\n",
        "First, lets clone the repo from the GitHub page and get everything set up here."
      ]
    },
    {
      "cell_type": "markdown",
      "source": [
        "One can either run everything from within the Colab environment locally (requires to upload data each time of asking) or connect to your Google Drive account and run via there. I will provide code for each option, although I have personally found that the first option runs slightly faster (although it can be a faff to manually upload data to folders). First, lets set up the local drive here."
      ],
      "metadata": {
        "id": "r1JB6qpcY1_m"
      }
    },
    {
      "cell_type": "code",
      "source": [
        "## Step 1: Clone the GitHub repo locally\n",
        "! git clone https://github.com/markagreen/groundswell_indicators.git # Clone the UK Routes GitHub page (do the first time)\n",
        "# ! git pull # Make sure you have the latest version\n",
        "! ls # Check has worked\n"
      ],
      "metadata": {
        "id": "1vDBE2ESY0gw",
        "colab": {
          "base_uri": "https://localhost:8080/"
        },
        "outputId": "6dbbbb43-fd92-4e1d-f1f8-d6ba623882e8"
      },
      "execution_count": 8,
      "outputs": [
        {
          "output_type": "stream",
          "name": "stdout",
          "text": [
            "Cloning into 'groundswell_indicators'...\n",
            "remote: Enumerating objects: 450, done.\u001b[K\n",
            "remote: Counting objects: 100% (259/259), done.\u001b[K\n",
            "remote: Compressing objects: 100% (156/156), done.\u001b[K\n",
            "remote: Total 450 (delta 125), reused 209 (delta 87), pack-reused 191\u001b[K\n",
            "Receiving objects: 100% (450/450), 211.70 MiB | 13.53 MiB/s, done.\n",
            "Resolving deltas: 100% (188/188), done.\n",
            "Updating files: 100% (74/74), done.\n",
            "groundswell_indicators\trapidsai-csp-utils  sample_data\n"
          ]
        }
      ]
    },
    {
      "cell_type": "code",
      "source": [
        "## Step 2: Navigate to the folder to run the code\n",
        "# Define the path\n",
        "path = '/content/groundswell_indicators/accessibility'\n",
        "\n",
        "# Change director to path\n",
        "%cd {path}\n",
        "! ls"
      ],
      "metadata": {
        "colab": {
          "base_uri": "https://localhost:8080/"
        },
        "id": "F7bRgcy8bqmX",
        "outputId": "d8294462-e67c-450b-880f-c30aa2ec4a91"
      },
      "execution_count": 9,
      "outputs": [
        {
          "output_type": "stream",
          "name": "stdout",
          "text": [
            "/content/groundswell_indicators/accessibility\n",
            "access_indicators_colab.ipynb  debug.log  pyproject.toml  requirements-dev.lock  scripts  SPEC.pdf\n",
            "data\t\t\t       LICENSE\t  README.md\t  requirements.lock\t SPEC.md  ukroutes\n"
          ]
        }
      ]
    },
    {
      "cell_type": "markdown",
      "metadata": {
        "id": "e2slBPpYykHi"
      },
      "source": [
        "The second approach is to run everything via your Google Drive. Follow the steps below to do this. If you are unable to mount the Google Drive following runnin the second bit of code, then run the following code below. Else you can skip for now (left here in case of issues)."
      ]
    },
    {
      "cell_type": "code",
      "execution_count": null,
      "metadata": {
        "id": "n3-4uiDFyRFR"
      },
      "outputs": [],
      "source": [
        "#from google.colab import drive\n",
        "#drive.flush_and_unmount()\n",
        "## Check and clean the mountpoint directory\n",
        "#import shutil\n",
        "#import os\n",
        "#\n",
        "#mountpoint = '/content/gdrive'\n",
        "#if os.path.isdir(mountpoint):\n",
        "#    shutil.rmtree(mountpoint)  # Remove the directory if it exists and contains files"
      ]
    },
    {
      "cell_type": "markdown",
      "source": [
        "To mount Google Drive, run the following."
      ],
      "metadata": {
        "id": "cgFnAa5rt0JD"
      }
    },
    {
      "cell_type": "code",
      "execution_count": null,
      "metadata": {
        "id": "9GE3Jvj8d3_M"
      },
      "outputs": [],
      "source": [
        "#from google.colab import drive\n",
        "#drive.mount('/content/gdrive', force_remount=True) # Link notebook to your Google Drive (opens a link the first time to set up)\n",
        "#! ls /content/gdrive # Check has mounted corrected"
      ]
    },
    {
      "cell_type": "markdown",
      "metadata": {
        "id": "zAbOn6GeQOgb"
      },
      "source": [
        "Then let's navigate to folder where store all Colab files on (this is a folder that already exists on my Google Drive - so will need to be created if you don't have one)."
      ]
    },
    {
      "cell_type": "code",
      "execution_count": null,
      "metadata": {
        "id": "PeZEzx9uQTw0"
      },
      "outputs": [],
      "source": [
        "#import os\n",
        "#\n",
        "## Define the path\n",
        "#path = '/content/gdrive/MyDrive/Colab'\n",
        "#\n",
        "## Check if the path exists\n",
        "#if os.path.exists(path):\n",
        "#    print(f\"Path exists: {path}\")\n",
        "#else:\n",
        "#    print(f\"Path does not exist, creating: {path}\")\n",
        "#    os.makedirs(path)\n",
        "#\n",
        "## Change director to path\n",
        "#%cd {path}"
      ]
    },
    {
      "cell_type": "markdown",
      "metadata": {
        "id": "3Ee88mQGQWBj"
      },
      "source": [
        "Next we clone the GitHub page (do the first time) or update it to the latest version of the code."
      ]
    },
    {
      "cell_type": "code",
      "execution_count": null,
      "metadata": {
        "id": "BkNZ7KW2QWYb"
      },
      "outputs": [],
      "source": [
        "# ! git clone https://github.com/markagreen/groundswell_indicators.git # Clone the UK Routes GitHub page (do the first time)\n",
        "# ! git pull # Make sure you have the latest version"
      ]
    },
    {
      "cell_type": "markdown",
      "metadata": {
        "id": "Ruk74xdGSPVe"
      },
      "source": [
        "Let's move to the UK routes directory now."
      ]
    },
    {
      "cell_type": "code",
      "execution_count": null,
      "metadata": {
        "id": "DCsOunEjzGIw"
      },
      "outputs": [],
      "source": [
        "## Define the path\n",
        "#path = '/content/gdrive/MyDrive/Colab/groundswell_indicators/accessibility'#\n",
        "#\n",
        "## Change director to path\n",
        "#%cd {path}"
      ]
    },
    {
      "cell_type": "markdown",
      "metadata": {
        "id": "wV19NQ7XfCjC"
      },
      "source": [
        "To check the list of files within to double check that we are in the correct drive."
      ]
    },
    {
      "cell_type": "code",
      "execution_count": null,
      "metadata": {
        "id": "opB0AEW7zbxn"
      },
      "outputs": [],
      "source": [
        "#! ls # List all files in directory"
      ]
    },
    {
      "cell_type": "markdown",
      "metadata": {
        "id": "LK2LwI1Migou"
      },
      "source": [
        "# Preprocessing data\n",
        "The first step is to process all of the road network information into the format that we need. We only need to run this once - so once the road network has been calculated and saved we don't need to run this every time. One can skip to the next step for subsequent indicators. Before we begin, make sure to run the R file \"process_input_files.R\"."
      ]
    },
    {
      "cell_type": "markdown",
      "metadata": {
        "id": "c1G2kjKtixUO"
      },
      "source": [
        "We need to first run the preprocessing script. I have found that it only works if I paste it in here entirely, rather than running from source. Prior to running you will need to manually upload the raw road network files to `data/raw/oproad` (do this by selecting the folder icon on the left hand size and uploading the files manually)."
      ]
    },
    {
      "cell_type": "code",
      "execution_count": null,
      "metadata": {
        "colab": {
          "base_uri": "https://localhost:8080/",
          "height": 120
        },
        "id": "o9lQAT6D3xs9",
        "outputId": "0ccb7224-4145-415b-f3dc-5fdcff19d780"
      },
      "outputs": [
        {
          "data": {
            "text/html": [
              "<pre style=\"white-space:pre;overflow-x:auto;line-height:normal;font-family:Menlo,'DejaVu Sans Mono',consolas,'Courier New',monospace\"><span style=\"color: #7fbfbf; text-decoration-color: #7fbfbf\">[06/07/24 08:26:55] </span><span style=\"color: #000080; text-decoration-color: #000080\">INFO    </span> Starting OS highways processing<span style=\"color: #808000; text-decoration-color: #808000\">...</span>                 <a href=\"file://<ipython-input-21-b8de8ff1f553>\" target=\"_blank\"><span style=\"color: #7f7f7f; text-decoration-color: #7f7f7f\">&lt;ipython-input-21-b8de8ff1f553&gt;</span></a><span style=\"color: #7f7f7f; text-decoration-color: #7f7f7f\">:</span><a href=\"file://<ipython-input-21-b8de8ff1f553>#152\" target=\"_blank\"><span style=\"color: #7f7f7f; text-decoration-color: #7f7f7f\">152</span></a>\n",
              "</pre>\n"
            ],
            "text/plain": [
              "\u001b[2;36m[06/07/24 08:26:55]\u001b[0m\u001b[2;36m \u001b[0m\u001b[34mINFO    \u001b[0m Starting OS highways processing\u001b[33m...\u001b[0m                 \u001b]8;id=974640;file://<ipython-input-21-b8de8ff1f553>\u001b\\\u001b[2m<ipython-input-21-b8de8ff1f553>\u001b[0m\u001b]8;;\u001b\\\u001b[2m:\u001b[0m\u001b]8;id=561831;file://<ipython-input-21-b8de8ff1f553>#152\u001b\\\u001b[2m152\u001b[0m\u001b]8;;\u001b\\\n"
            ]
          },
          "metadata": {},
          "output_type": "display_data"
        },
        {
          "name": "stderr",
          "output_type": "stream",
          "text": [
            "INFO:ukroutes.common.logger:Starting OS highways processing...\n"
          ]
        },
        {
          "data": {
            "text/html": [
              "<pre style=\"white-space:pre;overflow-x:auto;line-height:normal;font-family:Menlo,'DejaVu Sans Mono',consolas,'Courier New',monospace\"><span style=\"color: #7fbfbf; text-decoration-color: #7fbfbf\">[06/07/24 08:33:10] </span><span style=\"color: #008000; text-decoration-color: #008000\">DEBUG   </span> Nodes saved to data/processed/osm/nodes.parquet    <a href=\"file://<ipython-input-21-b8de8ff1f553>\" target=\"_blank\"><span style=\"color: #7f7f7f; text-decoration-color: #7f7f7f\">&lt;ipython-input-21-b8de8ff1f553&gt;</span></a><span style=\"color: #7f7f7f; text-decoration-color: #7f7f7f\">:</span><a href=\"file://<ipython-input-21-b8de8ff1f553>#167\" target=\"_blank\"><span style=\"color: #7f7f7f; text-decoration-color: #7f7f7f\">167</span></a>\n",
              "</pre>\n"
            ],
            "text/plain": [
              "\u001b[2;36m[06/07/24 08:33:10]\u001b[0m\u001b[2;36m \u001b[0m\u001b[32mDEBUG   \u001b[0m Nodes saved to data/processed/osm/nodes.parquet    \u001b]8;id=96768;file://<ipython-input-21-b8de8ff1f553>\u001b\\\u001b[2m<ipython-input-21-b8de8ff1f553>\u001b[0m\u001b]8;;\u001b\\\u001b[2m:\u001b[0m\u001b]8;id=412967;file://<ipython-input-21-b8de8ff1f553>#167\u001b\\\u001b[2m167\u001b[0m\u001b]8;;\u001b\\\n"
            ]
          },
          "metadata": {},
          "output_type": "display_data"
        },
        {
          "name": "stderr",
          "output_type": "stream",
          "text": [
            "DEBUG:ukroutes.common.logger:Nodes saved to data/processed/osm/nodes.parquet\n"
          ]
        },
        {
          "data": {
            "text/html": [
              "<pre style=\"white-space:pre;overflow-x:auto;line-height:normal;font-family:Menlo,'DejaVu Sans Mono',consolas,'Courier New',monospace\"><span style=\"color: #7fbfbf; text-decoration-color: #7fbfbf\">[06/07/24 08:33:19] </span><span style=\"color: #008000; text-decoration-color: #008000\">DEBUG   </span> Edges saved to data/processed/osm/edges.parquet    <a href=\"file://<ipython-input-21-b8de8ff1f553>\" target=\"_blank\"><span style=\"color: #7f7f7f; text-decoration-color: #7f7f7f\">&lt;ipython-input-21-b8de8ff1f553&gt;</span></a><span style=\"color: #7f7f7f; text-decoration-color: #7f7f7f\">:</span><a href=\"file://<ipython-input-21-b8de8ff1f553>#169\" target=\"_blank\"><span style=\"color: #7f7f7f; text-decoration-color: #7f7f7f\">169</span></a>\n",
              "</pre>\n"
            ],
            "text/plain": [
              "\u001b[2;36m[06/07/24 08:33:19]\u001b[0m\u001b[2;36m \u001b[0m\u001b[32mDEBUG   \u001b[0m Edges saved to data/processed/osm/edges.parquet    \u001b]8;id=779225;file://<ipython-input-21-b8de8ff1f553>\u001b\\\u001b[2m<ipython-input-21-b8de8ff1f553>\u001b[0m\u001b]8;;\u001b\\\u001b[2m:\u001b[0m\u001b]8;id=741525;file://<ipython-input-21-b8de8ff1f553>#169\u001b\\\u001b[2m169\u001b[0m\u001b]8;;\u001b\\\n"
            ]
          },
          "metadata": {},
          "output_type": "display_data"
        },
        {
          "name": "stderr",
          "output_type": "stream",
          "text": [
            "DEBUG:ukroutes.common.logger:Edges saved to data/processed/osm/edges.parquet\n"
          ]
        }
      ],
      "source": [
        "import cudf\n",
        "from scipy.spatial import distance_matrix\n",
        "import pandas as pd\n",
        "import cugraph\n",
        "import geopandas as gpd\n",
        "import polars as pl\n",
        "from scipy.spatial import KDTree\n",
        "\n",
        "from ukroutes.common.logger import logger\n",
        "from ukroutes.common.utils import Paths# , filter_deadends\n",
        "from ukroutes.process_routing import add_to_graph\n",
        "\n",
        "def filter_deadends(nodes, edges):\n",
        "    G = cugraph.Graph()\n",
        "    G.from_cudf_edgelist(\n",
        "        edges, source=\"start_node\", destination=\"end_node\", edge_attr=\"time_weighted\"\n",
        "    )\n",
        "    components = cugraph.connected_components(G)\n",
        "    component_counts = components[\"labels\"].value_counts().reset_index()\n",
        "    component_counts.columns = [\"labels\", \"count\"]\n",
        "\n",
        "    largest_component_label = component_counts[\n",
        "        component_counts[\"count\"] == component_counts[\"count\"].max()\n",
        "    ][\"labels\"][0]\n",
        "\n",
        "    largest_component_nodes = components[\n",
        "        components[\"labels\"] == largest_component_label\n",
        "    ][\"vertex\"]\n",
        "    filtered_edges = edges[\n",
        "        edges[\"start_node\"].isin(largest_component_nodes)\n",
        "        & edges[\"end_node\"].isin(largest_component_nodes)\n",
        "    ]\n",
        "    filtered_nodes = nodes[nodes[\"node_id\"].isin(largest_component_nodes)]\n",
        "    return filtered_nodes, filtered_edges\n",
        "\n",
        "def process_road_edges() -> pl.DataFrame:\n",
        "    \"\"\"\n",
        "    Create time estimates for road edges based on OS documentation\n",
        "\n",
        "    Time estimates based on speed estimates and edge length. Speed estimates\n",
        "    taken from OS documentation. This also filters to remove extra cols.\n",
        "\n",
        "    Parameters\n",
        "    ----------\n",
        "    edges : pd.DataFrame\n",
        "        OS highways df containing edges, and other metadata\n",
        "\n",
        "    Returns\n",
        "    -------\n",
        "    pd.DataFrame:\n",
        "        OS highways df with time weighted estimates\n",
        "    \"\"\"\n",
        "\n",
        "    a_roads = [\"A Road\", \"A Road Primary\"]\n",
        "    b_roads = [\"B Road\", \"B Road Primary\"]\n",
        "\n",
        "    road_edges: pl.DataFrame = pl.from_pandas(\n",
        "        gpd.read_file(\n",
        "            Paths.OPROAD,\n",
        "            layer=\"road_link\",\n",
        "            ignore_geometry=True,\n",
        "            engine=\"pyogrio\",  # much faster\n",
        "        )\n",
        "    )\n",
        "\n",
        "    road_edges = (\n",
        "        road_edges.with_columns(\n",
        "            pl.when(pl.col(\"road_classification\") == \"Motorway\")\n",
        "            .then(67)\n",
        "            .when(\n",
        "                (\n",
        "                    pl.col(\"form_of_way\").is_in(\n",
        "                        [\"Dual Carriageway\", \"Collapsed Dual Carriageway\"]\n",
        "                    )\n",
        "                )\n",
        "                & (pl.col(\"road_classification\").is_in(a_roads))\n",
        "            )\n",
        "            .then(57)\n",
        "            .when(\n",
        "                (\n",
        "                    pl.col(\"form_of_way\").is_in(\n",
        "                        [\"Dual Carriageway\", \"Collapsed Dual Carriageway\"]\n",
        "                    )\n",
        "                )\n",
        "                & (pl.col(\"road_classification\").is_in(b_roads))\n",
        "            )\n",
        "            .then(45)\n",
        "            .when(\n",
        "                (pl.col(\"form_of_way\") == \"Single Carriageway\")\n",
        "                & (pl.col(\"road_classification\").is_in(a_roads + b_roads))\n",
        "            )\n",
        "            .then(25)\n",
        "            .when(pl.col(\"road_classification\").is_in([\"Unclassified\"]))\n",
        "            .then(24)\n",
        "            .when(pl.col(\"form_of_way\").is_in([\"Roundabout\"]))\n",
        "            .then(10)\n",
        "            .when(pl.col(\"form_of_way\").is_in([\"Track\", \"Layby\"]))\n",
        "            .then(5)\n",
        "            .otherwise(10)\n",
        "            .alias(\"speed_estimate\")\n",
        "        )\n",
        "        .with_columns(pl.col(\"speed_estimate\") * 1.609344)\n",
        "        .with_columns(\n",
        "            (((pl.col(\"length\") / 1000) / pl.col(\"speed_estimate\")) * 60).alias(\n",
        "                \"time_weighted\"\n",
        "            ),\n",
        "        )\n",
        "    )\n",
        "    return road_edges.select([\"start_node\", \"end_node\", \"time_weighted\", \"length\"])\n",
        "\n",
        "\n",
        "def process_road_nodes() -> pl.DataFrame:\n",
        "    road_nodes = gpd.read_file(Paths.OPROAD, layer=\"road_node\", engine=\"pyogrio\")\n",
        "    road_nodes[\"easting\"], road_nodes[\"northing\"] = (\n",
        "        road_nodes.geometry.x,\n",
        "        road_nodes.geometry.y,\n",
        "    )\n",
        "    return pl.from_pandas(road_nodes[[\"id\", \"easting\", \"northing\"]]).rename(\n",
        "        {\"id\": \"node_id\"}\n",
        "    )\n",
        "\n",
        "\n",
        "def ferry_routes(road_nodes: pl.DataFrame) -> tuple[pl.DataFrame, pl.DataFrame]:\n",
        "    # http://overpass-turbo.eu/?q=LyoKVGhpcyBoYcSGYmVlbiBnxI1lcmF0ZWQgYnkgdGhlIG92xJJwxIlzLXR1cmJvIHdpemFyZC7EgsSdxJ9yaWdpbmFsIHNlxLBjaMSsxIk6CsOiwoDCnHJvdcSVPWbEknJ5xYjCnQoqLwpbxYx0Ompzb25dW3RpbWXFmzoyNV07Ci8vxI_ElMSdciByZXN1bHRzCigKICDFryBxdcSSxJrEo3J0IGZvcjogxYjFisWbZcWPxZHFk8KAxZXGgG5vZGVbIsWLxY1lIj0ixZByxZIiXSh7e2LEqnh9fSnFrcaAd2F5xp_GocSVxqTGpsaWxqrGrMauxrDGssa0xb_FtWVsxJRpxaDGusaTxr3Gp8apxqvGrcavb8axxrPFrceFxoJwxLduxorFtsW4xbrFvMWbxJjGnHnFrT7Frcejc2vHiMaDdDs&c=BH1aTWQmgG\n",
        "\n",
        "    ferries = gpd.read_file(Paths.RAW / \"oproad\" / \"ferries.geojson\")[\n",
        "        [\"id\", \"geometry\"]\n",
        "    ].to_crs(\"EPSG:27700\")\n",
        "    ferry_nodes = (\n",
        "        ferries[ferries[\"id\"].str.startswith(\"node\")].copy().reset_index(drop=True)\n",
        "    )\n",
        "    ferry_nodes[\"easting\"], ferry_nodes[\"northing\"] = (\n",
        "        ferry_nodes.geometry.x,\n",
        "        ferry_nodes.geometry.y,\n",
        "    )\n",
        "    ferry_edges = (\n",
        "        ferries[ferries[\"id\"].str.startswith(\"relation\")]\n",
        "        .explode(index_parts=False)\n",
        "        .copy()\n",
        "        .reset_index(drop=True)\n",
        "    )\n",
        "    road_nodes = road_nodes.to_pandas().copy()\n",
        "\n",
        "    nodes_tree = KDTree(road_nodes[[\"easting\", \"northing\"]].values)\n",
        "    distances, indices = nodes_tree.query(ferry_nodes[[\"easting\", \"northing\"]].values)\n",
        "    ferry_nodes[\"node_id\"] = road_nodes.iloc[indices][\"node_id\"].reset_index(drop=True)\n",
        "\n",
        "    ferry_edges[\"length\"] = ferry_edges[\"geometry\"].apply(lambda x: x.length)\n",
        "    ferry_edges = ferry_edges.assign(\n",
        "        time_weighted=(ferry_edges[\"length\"].astype(float) / 1000) / 25 * 1.609344 * 60\n",
        "    )\n",
        "\n",
        "    ferry_edges[\"start_node\"] = ferry_edges[\"geometry\"].apply(lambda x: x.coords[0])\n",
        "    ferry_edges[\"easting\"], ferry_edges[\"northing\"] = (\n",
        "        ferry_edges[\"start_node\"].apply(lambda x: x[0]),\n",
        "        ferry_edges[\"start_node\"].apply(lambda x: x[1]),\n",
        "    )\n",
        "    distances, indices = nodes_tree.query(ferry_edges[[\"easting\", \"northing\"]])\n",
        "    ferry_edges[\"start_node\"] = road_nodes.iloc[indices][\"node_id\"].reset_index(\n",
        "        drop=True\n",
        "    )\n",
        "\n",
        "    ferry_edges[\"end_node\"] = ferry_edges[\"geometry\"].apply(lambda x: x.coords[-1])\n",
        "    ferry_edges[\"easting\"], ferry_edges[\"northing\"] = (\n",
        "        ferry_edges[\"end_node\"].apply(lambda x: x[0]),\n",
        "        ferry_edges[\"end_node\"].apply(lambda x: x[1]),\n",
        "    )\n",
        "    distances, indices = nodes_tree.query(ferry_edges[[\"easting\", \"northing\"]])\n",
        "    ferry_edges[\"end_node\"] = road_nodes.iloc[indices][\"node_id\"].reset_index(drop=True)\n",
        "    return (\n",
        "        pl.from_pandas(ferry_nodes[[\"node_id\", \"easting\", \"northing\"]]),\n",
        "        pl.from_pandas(\n",
        "            ferry_edges[[\"start_node\", \"end_node\", \"time_weighted\", \"length\"]]\n",
        "        ),\n",
        "    )\n",
        "\n",
        "\n",
        "def combine_subgraphs(nodes, edges):\n",
        "    graph = cugraph.Graph()\n",
        "    graph.from_cudf_edgelist(\n",
        "        cudf.from_pandas(edges), source=\"start_node\", destination=\"end_node\"\n",
        "    )\n",
        "    components = cugraph.connected_components(graph)\n",
        "    component_counts = components[\"labels\"].value_counts().reset_index()\n",
        "\n",
        "    largest_component_label = component_counts[\n",
        "        component_counts[\"count\"] == component_counts[\"count\"].max()\n",
        "    ][\"labels\"][0]\n",
        "    largest_component = components[components[\"labels\"] == largest_component_label]\n",
        "    largest_cn = nodes[nodes[\"node_id\"].isin(largest_component[\"vertex\"].to_pandas())]\n",
        "    largest_ce = edges[\n",
        "        edges[\"start_node\"].isin(largest_component[\"vertex\"].to_pandas())\n",
        "        | edges[\"end_node\"].isin(largest_component[\"vertex\"].to_pandas())\n",
        "    ]\n",
        "\n",
        "    subgraph_component_labels = component_counts[\n",
        "        component_counts[\"labels\"] != largest_component_label\n",
        "    ][\"labels\"]\n",
        "    subgraph_component = components[\n",
        "        components[\"labels\"].isin(subgraph_component_labels)\n",
        "    ]\n",
        "    sub_cn = nodes[nodes[\"node_id\"].isin(subgraph_component[\"vertex\"].to_pandas())]\n",
        "\n",
        "    _, nodes, edges = add_to_graph(\n",
        "        sub_cn,\n",
        "        cudf.from_pandas(largest_cn),\n",
        "        cudf.from_pandas(largest_ce),\n",
        "    )\n",
        "    return nodes, edges\n",
        "\n",
        "\n",
        "def process_os():\n",
        "    logger.info(\"Starting OS highways processing...\")\n",
        "    edges = process_road_edges()\n",
        "    nodes = process_road_nodes()\n",
        "\n",
        "    ferry_nodes, ferry_edges = ferry_routes(nodes)\n",
        "    nodes = pl.concat([nodes, ferry_nodes]).to_pandas()\n",
        "    edges = pl.concat([edges, ferry_edges]).to_pandas()\n",
        "\n",
        "    unique_node_ids = nodes[\"node_id\"].unique()\n",
        "    node_id_mapping = {\n",
        "        node_id: new_id for new_id, node_id in enumerate(unique_node_ids)\n",
        "    }\n",
        "    nodes[\"node_id\"] = nodes[\"node_id\"].map(node_id_mapping)\n",
        "    edges[\"start_node\"] = edges[\"start_node\"].map(node_id_mapping)\n",
        "    edges[\"end_node\"] = edges[\"end_node\"].map(node_id_mapping)\n",
        "\n",
        "    # nodes, edges = filter_deadends(cudf.from_pandas(nodes), cudf.from_pandas(edges))\n",
        "    nodes, edges = combine_subgraphs(nodes, edges)\n",
        "\n",
        "    nodes.to_pandas().to_parquet(Paths.OS_GRAPH / \"nodes.parquet\", index=False)\n",
        "    logger.debug(f\"Nodes saved to {Paths.OS_GRAPH / 'nodes.parquet'}\")\n",
        "    edges.to_pandas().to_parquet(Paths.OS_GRAPH / \"edges.parquet\", index=False)\n",
        "    logger.debug(f\"Edges saved to {Paths.OS_GRAPH / 'edges.parquet'}\")\n",
        "\n",
        "\n",
        "if __name__ == \"__main__\":\n",
        "    process_os()\n"
      ]
    },
    {
      "cell_type": "markdown",
      "metadata": {
        "id": "eRXyQ_m08ID7"
      },
      "source": [
        "# Process routing\n",
        "\n",
        "Here we call a script file (once again I print this entirely in here for ease of running. We run a seperate script for each indicator that we want to create. In this instance, we will just calculate the distance to the nearest green space (considering all green spaces). This is a starting point for us. We can revise the specific indicator later.\n",
        "\n",
        "Things to check: (1) the original code was developed for postcodes rather than UPRNs. We might need to change some of the K means settings in the process_routing script to accomodate that they will be closely clustered vs postcodes (as more and tightly packed). Solution would be to increase the value above 10. (2) Time (minutes) vs distances (meters). Update the Routing() weights setting to either \"time_weighted\" or \"distance\" depending on preference."
      ]
    },
    {
      "cell_type": "code",
      "execution_count": 17,
      "metadata": {
        "id": "yyfgE9Ts3xh_",
        "colab": {
          "base_uri": "https://localhost:8080/",
          "height": 68,
          "referenced_widgets": [
            "ebcb74b5ecf146be960d18b212d81885",
            "17f76212ff9d4dc2978d55d12dc74573"
          ]
        },
        "outputId": "225cc7e9-5de8-4b30-f76e-4750833bb5a6"
      },
      "outputs": [
        {
          "output_type": "display_data",
          "data": {
            "text/plain": [
              "Output()"
            ],
            "application/vnd.jupyter.widget-view+json": {
              "version_major": 2,
              "version_minor": 0,
              "model_id": "ebcb74b5ecf146be960d18b212d81885"
            }
          },
          "metadata": {}
        },
        {
          "output_type": "display_data",
          "data": {
            "text/plain": [],
            "text/html": [
              "<pre style=\"white-space:pre;overflow-x:auto;line-height:normal;font-family:Menlo,'DejaVu Sans Mono',consolas,'Courier New',monospace\"></pre>\n"
            ]
          },
          "metadata": {}
        },
        {
          "output_type": "display_data",
          "data": {
            "text/plain": [
              "\n"
            ],
            "text/html": [
              "<pre style=\"white-space:pre;overflow-x:auto;line-height:normal;font-family:Menlo,'DejaVu Sans Mono',consolas,'Courier New',monospace\">\n",
              "</pre>\n"
            ]
          },
          "metadata": {}
        },
        {
          "output_type": "display_data",
          "data": {
            "text/plain": [
              "\u001b[2;36m[07/11/24 15:49:56]\u001b[0m\u001b[2;36m \u001b[0m\u001b[32mDEBUG   \u001b[0m Routing complete for greenspace in \u001b[1;36m1.28\u001b[0m minutes.                         \u001b]8;id=239105;file:///content/groundswell_indicators/accessibility/ukroutes/routing.py\u001b\\\u001b[2mrouting.py\u001b[0m\u001b]8;;\u001b\\\u001b[2m:\u001b[0m\u001b]8;id=834629;file:///content/groundswell_indicators/accessibility/ukroutes/routing.py#68\u001b\\\u001b[2m68\u001b[0m\u001b]8;;\u001b\\\n"
            ],
            "text/html": [
              "<pre style=\"white-space:pre;overflow-x:auto;line-height:normal;font-family:Menlo,'DejaVu Sans Mono',consolas,'Courier New',monospace\"><span style=\"color: #7fbfbf; text-decoration-color: #7fbfbf\">[07/11/24 15:49:56] </span><span style=\"color: #008000; text-decoration-color: #008000\">DEBUG   </span> Routing complete for greenspace in <span style=\"color: #008080; text-decoration-color: #008080; font-weight: bold\">1.28</span> minutes.                         <a href=\"file:///content/groundswell_indicators/accessibility/ukroutes/routing.py\" target=\"_blank\"><span style=\"color: #7f7f7f; text-decoration-color: #7f7f7f\">routing.py</span></a><span style=\"color: #7f7f7f; text-decoration-color: #7f7f7f\">:</span><a href=\"file:///content/groundswell_indicators/accessibility/ukroutes/routing.py#68\" target=\"_blank\"><span style=\"color: #7f7f7f; text-decoration-color: #7f7f7f\">68</span></a>\n",
              "</pre>\n"
            ]
          },
          "metadata": {}
        },
        {
          "output_type": "stream",
          "name": "stderr",
          "text": [
            "DEBUG:ukroutes.common.logger:Routing complete for greenspace in 1.28 minutes.\n"
          ]
        }
      ],
      "source": [
        "import cudf\n",
        "import geopandas as gpd\n",
        "import numpy as np\n",
        "import pandas as pd\n",
        "import cugraph\n",
        "import warnings\n",
        "\n",
        "from ukroutes import Routing\n",
        "from ukroutes.common.utils import Paths #, filter_deadends\n",
        "from ukroutes.preprocessing import process_os\n",
        "from ukroutes.process_routing import add_to_graph, add_topk\n",
        "\n",
        "# To stop warnings being printed, which will lead to a million of them on Colab\n",
        "warnings.filterwarnings(\"ignore\", category=FutureWarning, module=\"cugraph\")\n",
        "\n",
        "# Load destinations\n",
        "greenspace = pd.read_parquet(Paths.PROCESSED / \"osgsl\" / \"osgsl_all.parquet\") # All green spaces of any size / type\n",
        "\n",
        "# Load road network\n",
        "nodes: cudf.DataFrame = cudf.from_pandas(\n",
        "    pd.read_parquet(Paths.OS_GRAPH / \"nodes.parquet\")\n",
        ")\n",
        "edges: cudf.DataFrame = cudf.from_pandas(\n",
        "    pd.read_parquet(Paths.OS_GRAPH / \"edges.parquet\")\n",
        ")\n",
        "\n",
        "#def filter_deadends(nodes, edges):\n",
        "#    G = cugraph.Graph()\n",
        "#    G.from_cudf_edgelist(\n",
        "#        edges, source=\"start_node\", destination=\"end_node\", edge_attr=\"time_weighted\"\n",
        "#    )\n",
        "#    components = cugraph.connected_components(G)\n",
        "#    component_counts = components[\"labels\"].value_counts().reset_index()\n",
        "#    component_counts.columns = [\"labels\", \"count\"]\n",
        "#\n",
        "#    largest_component_label = component_counts[\n",
        "#        component_counts[\"count\"] == component_counts[\"count\"].max()\n",
        "#    ][\"labels\"][0]\n",
        "#\n",
        "#    largest_component_nodes = components[\n",
        "#        components[\"labels\"] == largest_component_label\n",
        "#    ][\"vertex\"]\n",
        "#    filtered_edges = edges[\n",
        "#        edges[\"start_node\"].isin(largest_component_nodes)\n",
        "#        & edges[\"end_node\"].isin(largest_component_nodes)\n",
        "#    ]\n",
        "#    filtered_nodes = nodes[nodes[\"node_id\"].isin(largest_component_nodes)]\n",
        "#    return filtered_nodes, filtered_edges\n",
        "\n",
        "#nodes, edges = filter_deadends(nodes, edges)\n",
        "\n",
        "greenspace, nodes, edges = add_to_graph(greenspace, nodes, edges, 1)\n",
        "\n",
        "toids = pd.read_parquet(Paths.PROCESSED / \"toids_cm_osgb.parquet\")\n",
        "# toids = toids.sample(100, random_state = 1234) # For testing purposes, subset a smaller dataset\n",
        "toids, nodes, edges = add_to_graph(toids, nodes, edges, 2)\n",
        "greenspace = add_topk(greenspace, toids, 3)\n",
        "\n",
        "\n",
        "routing = Routing(\n",
        "    name=\"greenspace\",\n",
        "    edges=edges,\n",
        "    nodes=nodes,\n",
        "    outputs=toids,\n",
        "    inputs=greenspace,\n",
        "    #weights=\"time_weighted\", # Use to get time (mins)\n",
        "    weights=\"length\", # Use to get the distance (meters)\n",
        "    min_buffer=5000,\n",
        "    max_buffer=500_000,\n",
        "    #cutoff=60,\n",
        ")\n",
        "routing.fit()\n",
        "#distances = routing.fetch_distances()\n",
        "\n",
        "#distances = (\n",
        "#    distances.set_index(\"vertex\")\n",
        "#    .join(toids.set_index(\"node_id\"), how=\"right\")\n",
        "#    .reset_index()\n",
        "#)\n",
        "routing.distances\n",
        "\n",
        "distances = (\n",
        "    routing.distances.set_index(\"vertex\")\n",
        "    .join(cudf.from_pandas(toids).set_index(\"node_id\"), how=\"right\")\n",
        "    .reset_index()\n",
        ")\n",
        "\n",
        "OUT_FILE = Paths.OUT_DATA / \"distances_greenspace_topk3.csv\"\n",
        "distances[[\"TOID\", \"distance\"]].to_csv(OUT_FILE, index=False)\n"
      ]
    }
  ],
  "metadata": {
    "accelerator": "GPU",
    "colab": {
      "gpuType": "T4",
      "provenance": []
    },
    "kernelspec": {
      "display_name": "Python 3",
      "name": "python3"
    },
    "widgets": {
      "application/vnd.jupyter.widget-state+json": {
        "ebcb74b5ecf146be960d18b212d81885": {
          "model_module": "@jupyter-widgets/output",
          "model_name": "OutputModel",
          "model_module_version": "1.0.0",
          "state": {
            "_dom_classes": [],
            "_model_module": "@jupyter-widgets/output",
            "_model_module_version": "1.0.0",
            "_model_name": "OutputModel",
            "_view_count": null,
            "_view_module": "@jupyter-widgets/output",
            "_view_module_version": "1.0.0",
            "_view_name": "OutputView",
            "layout": "IPY_MODEL_17f76212ff9d4dc2978d55d12dc74573",
            "msg_id": "",
            "outputs": [
              {
                "output_type": "display_data",
                "data": {
                  "text/plain": "Processing greenspace... \u001b[38;2;114;156;31m━━━━━━━━━━━━━━━━━━━━━━━━━━━━━━━━━━━━━━━━\u001b[0m \u001b[35m100%\u001b[0m \u001b[33m0:01:17\u001b[0m\n",
                  "text/html": "<pre style=\"white-space:pre;overflow-x:auto;line-height:normal;font-family:Menlo,'DejaVu Sans Mono',consolas,'Courier New',monospace\">Processing greenspace... <span style=\"color: #729c1f; text-decoration-color: #729c1f\">━━━━━━━━━━━━━━━━━━━━━━━━━━━━━━━━━━━━━━━━</span> <span style=\"color: #800080; text-decoration-color: #800080\">100%</span> <span style=\"color: #808000; text-decoration-color: #808000\">0:01:17</span>\n</pre>\n"
                },
                "metadata": {}
              }
            ]
          }
        },
        "17f76212ff9d4dc2978d55d12dc74573": {
          "model_module": "@jupyter-widgets/base",
          "model_name": "LayoutModel",
          "model_module_version": "1.2.0",
          "state": {
            "_model_module": "@jupyter-widgets/base",
            "_model_module_version": "1.2.0",
            "_model_name": "LayoutModel",
            "_view_count": null,
            "_view_module": "@jupyter-widgets/base",
            "_view_module_version": "1.2.0",
            "_view_name": "LayoutView",
            "align_content": null,
            "align_items": null,
            "align_self": null,
            "border": null,
            "bottom": null,
            "display": null,
            "flex": null,
            "flex_flow": null,
            "grid_area": null,
            "grid_auto_columns": null,
            "grid_auto_flow": null,
            "grid_auto_rows": null,
            "grid_column": null,
            "grid_gap": null,
            "grid_row": null,
            "grid_template_areas": null,
            "grid_template_columns": null,
            "grid_template_rows": null,
            "height": null,
            "justify_content": null,
            "justify_items": null,
            "left": null,
            "margin": null,
            "max_height": null,
            "max_width": null,
            "min_height": null,
            "min_width": null,
            "object_fit": null,
            "object_position": null,
            "order": null,
            "overflow": null,
            "overflow_x": null,
            "overflow_y": null,
            "padding": null,
            "right": null,
            "top": null,
            "visibility": null,
            "width": null
          }
        }
      }
    }
  },
  "nbformat": 4,
  "nbformat_minor": 0
}