{
  "nbformat": 4,
  "nbformat_minor": 0,
  "metadata": {
    "colab": {
      "provenance": []
    },
    "kernelspec": {
      "name": "python3",
      "display_name": "Python 3"
    },
    "language_info": {
      "name": "python"
    }
  },
  "cells": [
    {
      "cell_type": "markdown",
      "source": [
        "# Creating green and blue space indicators from Sentinel-2 data\n",
        "\n",
        "The notebook will estimate the following statistics for each household, as defined as the Unique Property Reference Number (UPRN), across Cheshire and Merseyside:\n",
        "* Normalised Difference Vegetation Index (NDVI)\n",
        "* EVI\n",
        "* NWDI\n"
      ],
      "metadata": {
        "id": "0HQldgb0_HYf"
      }
    },
    {
      "cell_type": "markdown",
      "source": [
        "## Set up the environment\n",
        "\n",
        "We will use Google Earth Engine (GEE) to access Sentinel-2 images. The strength of using GEE is that we can store and process all the images in the cloud, saving space. Let's start with installing GEE and arrow."
      ],
      "metadata": {
        "id": "-wtkH4vC_-LE"
      }
    },
    {
      "cell_type": "code",
      "source": [
        "# Install required packages\n",
        "# ! pip install earthengine-api # Comes already installed in Colab so leave here for local running\n",
        "! pip install pyarrow pyproj"
      ],
      "metadata": {
        "colab": {
          "base_uri": "https://localhost:8080/"
        },
        "id": "kBOUh254_zIB",
        "outputId": "13bca514-ef2c-44b4-a720-75b06c192270"
      },
      "execution_count": 21,
      "outputs": [
        {
          "output_type": "stream",
          "name": "stdout",
          "text": [
            "Requirement already satisfied: pyarrow in /usr/local/lib/python3.10/dist-packages (14.0.2)\n",
            "Requirement already satisfied: pyproj in /usr/local/lib/python3.10/dist-packages (3.6.1)\n",
            "Requirement already satisfied: numpy>=1.16.6 in /usr/local/lib/python3.10/dist-packages (from pyarrow) (1.25.2)\n",
            "Requirement already satisfied: certifi in /usr/local/lib/python3.10/dist-packages (from pyproj) (2024.6.2)\n"
          ]
        }
      ]
    },
    {
      "cell_type": "markdown",
      "source": [
        "Next we need to set up Python for the neccessary packages and link the notebook to our set up Groundswell GEE project."
      ],
      "metadata": {
        "id": "crmiuqNIBc7H"
      }
    },
    {
      "cell_type": "code",
      "source": [
        "# Load required libaries\n",
        "import ee\n",
        "import pandas as pd\n",
        "import numpy as np\n",
        "from shapely.geometry import Point\n",
        "from pyproj import Proj, transform\n",
        "\n",
        "# Set up Google Earth Engine (GEE) module\n",
        "ee.Authenticate(auth_mode = \"colab\") # Links GEE to your Google Account and defines that working in Colab (can change to 'localhost' if working on a local machine)\n",
        "ee.Initialize(project = \"ee-groundswelluk\") # Link to the registered project within GEE"
      ],
      "metadata": {
        "id": "UJVNk8fzBqrB"
      },
      "execution_count": 10,
      "outputs": []
    },
    {
      "cell_type": "markdown",
      "source": [
        "Finally, we load in our UPRN dataset and wrangle it into the format we need for later."
      ],
      "metadata": {
        "id": "onAlHcO8H3HC"
      }
    },
    {
      "cell_type": "code",
      "source": [
        "# Load UPRNs\n",
        "# If running locally, then you can load in as normal\n",
        "# If using Colab, the quickest route is to upload the file manually by clicking the left hand folder button\n",
        "# The file is pre-processed in 'get_uprns_cm.R'\n",
        "points = pd.read_parquet(\"/content/uprns_cm.parquet\") # Load file in\n",
        "print(points.head()) # Check has loaded in ok\n"
      ],
      "metadata": {
        "colab": {
          "base_uri": "https://localhost:8080/"
        },
        "id": "GSGvwWGIH3eg",
        "outputId": "84f62e47-9401-43dc-d882-3a159f0ac363"
      },
      "execution_count": 49,
      "outputs": [
        {
          "output_type": "stream",
          "name": "stdout",
          "text": [
            "       UPRN   latitude  longitude\n",
            "0  38000001  53.419158  -2.912226\n",
            "1  38000002  53.419105  -2.912180\n",
            "2  38000003  53.419060  -2.912179\n",
            "3  38000004  53.419006  -2.912163\n",
            "4  38000005  53.418952  -2.912162\n"
          ]
        }
      ]
    },
    {
      "cell_type": "markdown",
      "source": [
        "## Process images\n",
        "We next establish which images we want to use (Sentinel-2), define the region (Cheshire and Merseyside) and time period (2024) of interest, and identify the information that we want to extract from them (NDVI, EVI and NWDI)."
      ],
      "metadata": {
        "id": "MY-pfT9OBrPH"
      }
    },
    {
      "cell_type": "code",
      "execution_count": 40,
      "metadata": {
        "id": "-X0za_48_AhI"
      },
      "outputs": [],
      "source": [
        "# Create function that gets images\n",
        "def fetch_indices(geometry, start_date, end_date):\n",
        "    # Load Sentinel 2 images for defined time period and spatial extent (harmonised version is main version now and allows for time series estimation too from 28th March 2017 onwards)\n",
        "    s2 = ee.ImageCollection('COPERNICUS/S2_SR_HARMONIZED') \\\n",
        "        .filterDate(start_date, end_date) \\\n",
        "        .filterBounds(geometry) \\\n",
        "        .filter(ee.Filter.lt('CLOUDY_PIXEL_PERCENTAGE', 20)) # Only select images where cloud cover is <20% (20% is a decent figure given the findings of https://doi.org/10.1080/2150704X.2012.744486)\n",
        "\n",
        "    # Function calculates NDVI, EVI, and NDWI from images\n",
        "    def add_indices(image):\n",
        "        ndvi = image.normalizedDifference(['B8', 'B4']).rename('NDVI') # NDVI\n",
        "        evi = image.expression( # EVI\n",
        "            '2.5 * ((NIR - RED) / (NIR + 6 * RED - 7.5 * BLUE + 1))', {\n",
        "                'NIR': image.select('B8'),\n",
        "                'RED': image.select('B4'),\n",
        "                'BLUE': image.select('B2')\n",
        "            }).rename('EVI')\n",
        "        ndwi = image.normalizedDifference(['B8', 'B11']).rename('NDWI') # NDWI\n",
        "        return image.addBands([ndvi, evi, ndwi])\n",
        "\n",
        "    s2 = s2.map(add_indices)\n",
        "\n",
        "    # Composite the images to get a single image\n",
        "    composite = s2.median().select(['NDVI', 'EVI', 'NDWI'])\n",
        "\n",
        "    return composite\n",
        "\n",
        "# Define the region of interest (Cheshire and Merseyside; N 53.685701, S 52.946957, W -3.249978, E -1.974355)\n",
        "aoi = ee.Geometry.Polygon([\n",
        "    [[-3.249978, 52.946957], [-3.249978, 53.685701], [-1.974355, 53.685701], [-1.974355, 52.946957], [-3.249978, 52.946957]] # requires first and last to be the same to close the polygon\n",
        "])\n",
        "\n",
        "# Define the time range\n",
        "start_date = '2023-05-01'\n",
        "end_date = '2023-09-30'\n",
        "\n",
        "# Fetch the indices image\n",
        "indices_image = fetch_indices(aoi, start_date, end_date)\n"
      ]
    },
    {
      "cell_type": "markdown",
      "source": [
        "We then create a function to extract the values for each point."
      ],
      "metadata": {
        "id": "e6veDLlEF_9j"
      }
    },
    {
      "cell_type": "code",
      "source": [
        "# Function to extract average indices values within a buffer\n",
        "def extract_average_indices(indices_image, points, buffer_radius):\n",
        "    # Convert points to Earth Engine Geometry\n",
        "    ee_points = [ee.Geometry.Point(lon, lat) for lon, lat in zip(points['longitude'], points['latitude'])]\n",
        "\n",
        "    # Function to get average indices values for a point\n",
        "    def get_average_indices(point):\n",
        "        buffer = point.buffer(buffer_radius)  # Create a buffer around the point\n",
        "        indices_mean = indices_image.reduceRegion(\n",
        "            reducer=ee.Reducer.mean(),\n",
        "            geometry=buffer,\n",
        "            scale=10\n",
        "        )\n",
        "        return indices_mean.getInfo()\n",
        "\n",
        "    # Extract average indices values for all points\n",
        "    average_indices_values = [get_average_indices(point) for point in ee_points]\n",
        "\n",
        "    return average_indices_values\n",
        "\n",
        "## Sample 100 rows for testing\n",
        "#points = points.sample(n=100, random_state=42)\n",
        "\n",
        "# Define the buffer radius in meters\n",
        "buffer_radius = 300\n",
        "\n",
        "# Extract average indices values for each point within the buffer\n",
        "average_indices_values = extract_average_indices(indices_image, points, buffer_radius)\n",
        "\n",
        "# Add indices values to the DataFrame `points`\n",
        "points['ndvi'] = [v.get('NDVI') for v in average_indices_values]\n",
        "points['evi'] = [v.get('EVI') for v in average_indices_values]\n",
        "points['ndwi'] = [v.get('NDWI') for v in average_indices_values]\n",
        "\n",
        "# Print the DataFrame to check if it has worked\n",
        "print(points.head())\n"
      ],
      "metadata": {
        "id": "_1eZ9YirGAOw"
      },
      "execution_count": null,
      "outputs": []
    },
    {
      "cell_type": "markdown",
      "source": [
        "Briefly check if there is any missing data produced."
      ],
      "metadata": {
        "id": "wUR4QbiTg3eN"
      }
    },
    {
      "cell_type": "code",
      "source": [
        "# Check for existence of missing data\n",
        "missing_data = points.isnull().any() # Subset all missing data\n",
        "print(\"Columns with missing data:\") # Print text description prior to output on next line\n",
        "print(missing_data[missing_data].index.tolist()) # Print columns with missing data"
      ],
      "metadata": {
        "colab": {
          "base_uri": "https://localhost:8080/"
        },
        "id": "kw8uWpkrgvIf",
        "outputId": "41fc7573-d102-4462-eb6b-ff70216f6bc4"
      },
      "execution_count": 46,
      "outputs": [
        {
          "output_type": "stream",
          "name": "stdout",
          "text": [
            "Columns with missing data:\n",
            "[]\n"
          ]
        }
      ]
    },
    {
      "cell_type": "markdown",
      "source": [
        "We can also compute some summary descriptive statistics to see what our measures look like, as a brief check that they look ok."
      ],
      "metadata": {
        "id": "wNhwTPOWhDeN"
      }
    },
    {
      "cell_type": "code",
      "source": [
        "# Summary statistics\n",
        "summary_stats = points.describe() # Calculate descriptive statistics for each variable in the data\n",
        "print(summary_stats) # Print values"
      ],
      "metadata": {
        "colab": {
          "base_uri": "https://localhost:8080/"
        },
        "id": "0Fid9VqShD3Z",
        "outputId": "620a964b-60b3-43d8-f407-e610d3b15911"
      },
      "execution_count": 47,
      "outputs": [
        {
          "output_type": "stream",
          "name": "stdout",
          "text": [
            "               UPRN    latitude   longitude        ndvi         evi  \\\n",
            "count  1.000000e+02  100.000000  100.000000  100.000000  100.000000   \n",
            "mean   3.223321e+10   53.360270   -2.792277    0.482710    1.442191   \n",
            "std    5.489829e+10    0.111855    0.221799    0.139009    0.367752   \n",
            "min    3.805549e+07   53.068412   -3.150536    0.133166    0.514840   \n",
            "25%    3.902690e+07   53.291319   -2.953024    0.404337    1.223047   \n",
            "50%    4.210227e+07   53.389669   -2.866512    0.495029    1.460489   \n",
            "75%    3.257423e+10   53.417822   -2.667753    0.552867    1.655328   \n",
            "max    2.000029e+11   53.641830   -2.132856    0.853834    2.387883   \n",
            "\n",
            "             ndwi  \n",
            "count  100.000000  \n",
            "mean     0.111102  \n",
            "std      0.100771  \n",
            "min     -0.074162  \n",
            "25%      0.046727  \n",
            "50%      0.104962  \n",
            "75%      0.156529  \n",
            "max      0.403671  \n"
          ]
        }
      ]
    },
    {
      "cell_type": "markdown",
      "source": [
        "Finally, we should save the dataset."
      ],
      "metadata": {
        "id": "MhL-Bch7hodo"
      }
    },
    {
      "cell_type": "code",
      "source": [
        "points.to_csv(\"/content/satellite_indicators_uprn_cm_2023.csv\", index = False) # Save - make sure to download manually"
      ],
      "metadata": {
        "id": "t202Cp9ohoBr"
      },
      "execution_count": 31,
      "outputs": []
    }
  ]
}